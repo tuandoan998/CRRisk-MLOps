{
  "cells": [
    {
      "cell_type": "code",
      "source": [
        "import argparse\n",
        "from sklearn.linear_model import LogisticRegression\n",
        "from sklearn import metrics\n",
        "import os\n",
        "import pandas as pd\n",
        "import mlflow"
      ],
      "outputs": [],
      "execution_count": 1,
      "metadata": {
        "gather": {
          "logged": 1695117838425
        }
      }
    },
    {
      "cell_type": "code",
      "source": [
        "def select_first_file(path):\n",
        "    \"\"\"Selects first file in folder, use under assumption there is only one file in folder\n",
        "    Args:\n",
        "        path (str): path to directory or file to choose\n",
        "    Returns:\n",
        "        str: full path of selected file\n",
        "    \"\"\"\n",
        "    files = os.listdir(path)\n",
        "    return os.path.join(path, files[0])"
      ],
      "outputs": [],
      "execution_count": 2,
      "metadata": {
        "jupyter": {
          "source_hidden": false,
          "outputs_hidden": false
        },
        "nteract": {
          "transient": {
            "deleting": false
          }
        },
        "gather": {
          "logged": 1695117838667
        }
      }
    },
    {
      "cell_type": "code",
      "source": [
        "def main(args):\n",
        "    \"\"\"Main function of the script.\"\"\"\n",
        "\n",
        "    # paths are mounted as folder, therefore, we are selecting the file from folder\n",
        "    train_df = pd.read_csv(select_first_file(args.train_data))\n",
        "    # Extracting the label column\n",
        "    y_train = train_df.pop(\"is_bug_inc\")\n",
        "    # convert the dataframe values to array\n",
        "    X_train = train_df.values\n",
        "\n",
        "    print(f\"Training with data of shape {X_train.shape}\")\n",
        "\n",
        "    clf = LogisticRegression(C=args.regression_C, penalty=args.regression_penalty, solver=args.regression_solver)\n",
        "    mlflow.log_param(\"C\", args.regression_C)\n",
        "    mlflow.log_param(\"penalty\", args.regression_penalty)\n",
        "    mlflow.log_param(\"solver\", args.regression_solver)\n",
        "\n",
        "    clf.fit(X_train, y_train)\n",
        "\n",
        "    y_pred = clf.predict(X_train)\n",
        "    fpr, tpr, thresholds = metrics.roc_curve(y_train, y_pred)\n",
        "    precision = metrics.precision_score(y_train, y_pred)\n",
        "    recall = metrics.recall_score(y_train, y_pred)\n",
        "    f1 = metrics.f1_score(y_train, y_pred)\n",
        "    auc = metrics.auc(fpr, tpr)\n",
        "    print(precision, recall, f1, auc)\n",
        "\n",
        "    mlflow.log_metric(\"train precision\", precision)\n",
        "    mlflow.log_metric(\"train recall\", recall)\n",
        "    mlflow.log_metric(\"train f1\", f1)\n",
        "    mlflow.log_metric(\"train auc\", auc)\n",
        "\n",
        "    # Save the model\n",
        "    mlflow.sklearn.save_model(sk_model=clf, path=args.model_output)"
      ],
      "outputs": [],
      "execution_count": 3,
      "metadata": {
        "jupyter": {
          "source_hidden": false,
          "outputs_hidden": false
        },
        "nteract": {
          "transient": {
            "deleting": false
          }
        },
        "gather": {
          "logged": 1695117838983
        }
      }
    },
    {
      "cell_type": "code",
      "source": [
        "class MyArgs:\n",
        "    def __init__(self, /, **kwargs):\n",
        "        self.__dict__.update(kwargs)\n",
        "\n",
        "args = MyArgs(\n",
        "            train_data = \"local_run/prep_outputs/train\",\n",
        "            regression_C = 1.0,\n",
        "            regression_penalty = \"l1\",\n",
        "            regression_solver = \"liblinear\",\n",
        "            model_output = \"local_run/train_exp3\",\n",
        "            )\n",
        "\n",
        "os.makedirs(args.model_output, exist_ok = True)"
      ],
      "outputs": [],
      "execution_count": 15,
      "metadata": {
        "jupyter": {
          "source_hidden": false,
          "outputs_hidden": false
        },
        "nteract": {
          "transient": {
            "deleting": false
          }
        },
        "gather": {
          "logged": 1695118186187
        }
      }
    },
    {
      "cell_type": "code",
      "source": [
        "mlflow.start_run()\n",
        "\n",
        "lines = [\n",
        "    f\"Train dataset input path: {args.train_data}\",\n",
        "    f\"Model output path: {args.model_output}\",\n",
        "    f\"C: {args.regression_C}\",\n",
        "    f\"penalty: {args.regression_penalty}\",\n",
        "    f\"solver: {args.regression_solver}\",\n",
        "]\n",
        "\n",
        "for line in lines:\n",
        "    print(line)\n",
        "\n",
        "main(args)\n",
        "\n",
        "mlflow.end_run()"
      ],
      "outputs": [
        {
          "output_type": "stream",
          "name": "stdout",
          "text": "Train dataset input path: local_run/prep_outputs/train\nModel output path: local_run/train_exp3\nC: 1.0\npenalty: l1\nsolver: liblinear\nTraining with data of shape (1542, 8)\n0.7946287519747235 0.6523994811932555 0.7165242165242164 0.7418936446173798\n"
        },
        {
          "output_type": "stream",
          "name": "stderr",
          "text": "/anaconda/envs/crrisk/lib/python3.8/site-packages/_distutils_hack/__init__.py:18: UserWarning: Distutils was imported before Setuptools, but importing Setuptools also replaces the `distutils` module in `sys.modules`. This may lead to undesirable behaviors or errors. To avoid these issues, avoid using distutils directly, ensure that setuptools is installed in the traditional way (e.g. not an editable install), and/or make sure that setuptools is always imported before distutils.\n  warnings.warn(\n/anaconda/envs/crrisk/lib/python3.8/site-packages/_distutils_hack/__init__.py:33: UserWarning: Setuptools is replacing distutils.\n  warnings.warn(\"Setuptools is replacing distutils.\")\n"
        }
      ],
      "execution_count": 16,
      "metadata": {
        "jupyter": {
          "source_hidden": false,
          "outputs_hidden": false
        },
        "nteract": {
          "transient": {
            "deleting": false
          }
        },
        "gather": {
          "logged": 1695118192657
        }
      }
    }
  ],
  "metadata": {
    "kernelspec": {
      "name": "crrisk",
      "language": "python",
      "display_name": "CR Risk Env"
    },
    "language_info": {
      "name": "python",
      "version": "3.8.17",
      "mimetype": "text/x-python",
      "codemirror_mode": {
        "name": "ipython",
        "version": 3
      },
      "pygments_lexer": "ipython3",
      "nbconvert_exporter": "python",
      "file_extension": ".py"
    },
    "microsoft": {
      "ms_spell_check": {
        "ms_spell_check_language": "en"
      },
      "host": {
        "AzureML": {
          "notebookHasBeenCompleted": true
        }
      }
    },
    "nteract": {
      "version": "nteract-front-end@1.0.0"
    },
    "kernel_info": {
      "name": "crrisk"
    }
  },
  "nbformat": 4,
  "nbformat_minor": 2
}