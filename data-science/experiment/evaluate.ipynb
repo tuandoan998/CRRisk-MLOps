{
  "cells": [
    {
      "cell_type": "code",
      "source": [
        "import argparse\n",
        "from pathlib import Path\n",
        "from sklearn import metrics\n",
        "import os\n",
        "import pandas as pd\n",
        "import mlflow\n",
        "\n",
        "from mlflow.tracking import MlflowClient"
      ],
      "outputs": [],
      "execution_count": 1,
      "metadata": {
        "gather": {
          "logged": 1695132024187
        }
      }
    },
    {
      "cell_type": "code",
      "source": [
        "def select_first_file(path):\n",
        "    \"\"\"Selects first file in folder, use under assumption there is only one file in folder\n",
        "    Args:\n",
        "        path (str): path to directory or file to choose\n",
        "    Returns:\n",
        "        str: full path of selected file\n",
        "    \"\"\"\n",
        "    files = os.listdir(path)\n",
        "    for file in files:\n",
        "        if file.endswith('.csv'):\n",
        "            return os.path.join(path, file)"
      ],
      "outputs": [],
      "execution_count": 2,
      "metadata": {
        "jupyter": {
          "source_hidden": false,
          "outputs_hidden": false
        },
        "nteract": {
          "transient": {
            "deleting": false
          }
        },
        "gather": {
          "logged": 1695132024374
        }
      }
    },
    {
      "cell_type": "code",
      "source": [
        "def main(args):\n",
        "    \"\"\"Main function of the script.\"\"\"\n",
        "\n",
        "    # paths are mounted as folder, therefore, we are selecting the file from folder\n",
        "    test_df = pd.read_csv(select_first_file(args.test_data))\n",
        "    # Extracting the label column\n",
        "    y_test = test_df.pop(\"is_bug_inc\")\n",
        "    # convert the dataframe values to array\n",
        "    X_test = test_df\n",
        "\n",
        "    # Load the model from input port\n",
        "    model =  mlflow.sklearn.load_model(args.model_input) \n",
        "\n",
        "    # ---------------- Model Evaluation ---------------- #\n",
        "    yhat_test, score = model_evaluation(X_test, y_test, model, args.evaluation_output)\n",
        "\n",
        "    # ----------------- Model Promotion ---------------- #\n",
        "    if args.runner == \"CloudRunner\":\n",
        "        predictions, deploy_flag = model_promotion(args.model_name, args.evaluation_output, X_test, y_test, yhat_test, score)\n",
        "\n",
        "def model_evaluation(X_test, y_test, model, evaluation_output):\n",
        "    output_data = X_test.copy()\n",
        "\n",
        "    # Get predictions to y_test (y_test)\n",
        "    yhat_test = model.predict(X_test.values)\n",
        "\n",
        "    # Save the output data with feature columns, predicted cost, and actual cost in csv file\n",
        "    output_data[\"real_label\"] = y_test\n",
        "    output_data[\"predicted_label\"] = yhat_test\n",
        "    output_data.to_csv((Path(evaluation_output) / \"predictions.csv\"))\n",
        "\n",
        "    # Evaluate Model performance with the test set\n",
        "    fpr, tpr, thresholds = metrics.roc_curve(y_test, yhat_test)\n",
        "    precision = metrics.precision_score(y_test, yhat_test)\n",
        "    recall = metrics.recall_score(y_test, yhat_test)\n",
        "    f1 = metrics.f1_score(y_test, yhat_test)\n",
        "    auc = metrics.auc(fpr, tpr)\n",
        "\n",
        "    # Print score report to a text file\n",
        "    (Path(evaluation_output) / \"score.txt\").write_text(\n",
        "        f\"Scored with the following model:\\n{format(model)}\"\n",
        "    )\n",
        "    with open((Path(evaluation_output) / \"score.txt\"), \"a\") as outfile:\n",
        "        outfile.write(\"Precision: {precision.2f} \\n\")\n",
        "        outfile.write(\"Recall: {recall.2f} \\n\")\n",
        "        outfile.write(\"F1: {f1.2f} \\n\")\n",
        "        outfile.write(\"AUC: {auc.2f} \\n\")\n",
        "\n",
        "    mlflow.log_metric(\"test precision\", precision)\n",
        "    mlflow.log_metric(\"test recall\", recall)\n",
        "    mlflow.log_metric(\"test f1\", f1)\n",
        "    mlflow.log_metric(\"test auc\", auc)\n",
        "\n",
        "    return yhat_test, f1\n",
        "\n",
        "def model_promotion(model_name, evaluation_output, X_test, y_test, yhat_test, score):\n",
        "    \n",
        "    scores = {}\n",
        "    predictions = {}\n",
        "\n",
        "    client = MlflowClient()\n",
        "\n",
        "    for model_run in client.search_model_versions(f\"name='{model_name}'\"):\n",
        "        model_version = model_run.version\n",
        "        mdl = mlflow.pyfunc.load_model(\n",
        "            model_uri=f\"models:/{model_name}/{model_version}\")\n",
        "        predictions[f\"{model_name}:{model_version}\"] = mdl.predict(X_test)\n",
        "        scores[f\"{model_name}:{model_version}\"] = metrics.f1_score(\n",
        "            y_test, predictions[f\"{model_name}:{model_version}\"])\n",
        "\n",
        "    if scores:\n",
        "        if score > max(list(scores.values())):\n",
        "            deploy_flag = 1\n",
        "        else:\n",
        "            deploy_flag = 0\n",
        "    else:\n",
        "        deploy_flag = 1\n",
        "    print(f\"Deploy flag: {deploy_flag}\")\n",
        "\n",
        "    with open((Path(evaluation_output) / \"deploy_flag\"), 'w') as outfile:\n",
        "        outfile.write(f\"{int(deploy_flag)}\")\n",
        "\n",
        "    # add current model score and predictions\n",
        "    scores[\"current model\"] = score\n",
        "    predictions[\"currrent model\"] = yhat_test\n",
        "\n",
        "    perf_comparison_plot = pd.DataFrame(\n",
        "        scores, index=[\"f1 score\"]).plot(kind='bar', figsize=(15, 10))\n",
        "    perf_comparison_plot.figure.savefig(\"perf_comparison.png\")\n",
        "    perf_comparison_plot.figure.savefig(Path(evaluation_output) / \"perf_comparison.png\")\n",
        "\n",
        "    mlflow.log_metric(\"deploy flag\", bool(deploy_flag))\n",
        "    mlflow.log_artifact(\"perf_comparison.png\")\n",
        "\n",
        "    return predictions, deploy_flag"
      ],
      "outputs": [],
      "execution_count": 3,
      "metadata": {
        "jupyter": {
          "source_hidden": false,
          "outputs_hidden": false
        },
        "nteract": {
          "transient": {
            "deleting": false
          }
        },
        "gather": {
          "logged": 1695132024716
        }
      }
    },
    {
      "cell_type": "code",
      "source": [
        "# Define Arguments for this step\n",
        "\n",
        "class MyArgs:\n",
        "    def __init__(self, /, **kwargs):\n",
        "        self.__dict__.update(kwargs)\n",
        "\n",
        "args = MyArgs(\n",
        "                model_name = \"crrisk-model-pipeline-4steps\",\n",
        "                model_input = \"local_run/train/train_exp3\",\n",
        "                test_data = \"local_run/prep_outputs/test\",\n",
        "                evaluation_output = \"local_run/evaluate/evaluate_3\",\n",
        "                runner = \"CloudRunner\"\n",
        "                )\n",
        "\n",
        "os.makedirs(args.evaluation_output, exist_ok = True)"
      ],
      "outputs": [],
      "execution_count": 6,
      "metadata": {
        "jupyter": {
          "source_hidden": false,
          "outputs_hidden": false
        },
        "nteract": {
          "transient": {
            "deleting": false
          }
        },
        "gather": {
          "logged": 1695132149085
        }
      }
    },
    {
      "cell_type": "code",
      "source": [
        "mlflow.start_run(run_name='evaluate_3')\n",
        "\n",
        "lines = [\n",
        "    f\"Model name: {args.model_name}\",\n",
        "    f\"Model path: {args.model_input}\",\n",
        "    f\"Test data path: {args.test_data}\",\n",
        "    f\"Evaluation output path: {args.evaluation_output}\",\n",
        "]\n",
        "\n",
        "for line in lines:\n",
        "    print(line)\n",
        "\n",
        "main(args)\n",
        "\n",
        "mlflow.end_run()"
      ],
      "outputs": [
        {
          "output_type": "stream",
          "name": "stdout",
          "text": "Model name: crrisk-model-pipeline-4steps\nModel path: local_run/train/train_exp3\nTest data path: local_run/prep_outputs/test\nEvaluation output path: local_run/evaluate/evaluate_3\nDeploy flag: 1\n"
        },
        {
          "output_type": "stream",
          "name": "stderr",
          "text": "Downloading artifacts: 100%|██████████| 5/5 [00:00<00:00, 13.42it/s]\n/anaconda/envs/crrisk/lib/python3.8/site-packages/sklearn/base.py:457: UserWarning: X has feature names, but LogisticRegression was fitted without feature names\n  warnings.warn(\n"
        },
        {
          "output_type": "display_data",
          "data": {
            "text/plain": "<Figure size 1500x1000 with 1 Axes>",
            "image/png": "[encoded data removed]"
          },
          "metadata": {}
        }
      ],
      "execution_count": 7,
      "metadata": {
        "jupyter": {
          "source_hidden": false,
          "outputs_hidden": false
        },
        "nteract": {
          "transient": {
            "deleting": false
          }
        },
        "gather": {
          "logged": 1695132159095
        }
      }
    }
  ],
  "metadata": {
    "kernelspec": {
      "name": "crrisk",
      "language": "python",
      "display_name": "CR Risk Env"
    },
    "language_info": {
      "name": "python",
      "version": "3.8.17",
      "mimetype": "text/x-python",
      "codemirror_mode": {
        "name": "ipython",
        "version": 3
      },
      "pygments_lexer": "ipython3",
      "nbconvert_exporter": "python",
      "file_extension": ".py"
    },
    "microsoft": {
      "ms_spell_check": {
        "ms_spell_check_language": "en"
      },
      "host": {
        "AzureML": {
          "notebookHasBeenCompleted": true
        }
      }
    },
    "nteract": {
      "version": "nteract-front-end@1.0.0"
    },
    "kernel_info": {
      "name": "crrisk"
    }
  },
  "nbformat": 4,
  "nbformat_minor": 2
}