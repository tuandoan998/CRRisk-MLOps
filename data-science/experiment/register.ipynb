{
  "cells": [
    {
      "cell_type": "code",
      "source": [
        "import argparse\n",
        "from pathlib import Path\n",
        "import pickle\n",
        "import mlflow\n",
        "\n",
        "import os \n",
        "import json"
      ],
      "outputs": [],
      "execution_count": 1,
      "metadata": {
        "gather": {
          "logged": 1695132094539
        }
      }
    },
    {
      "cell_type": "code",
      "source": [
        "def main(args):\n",
        "    '''Loads model, registers it if deply flag is True'''\n",
        "    \n",
        "    with open((Path(args.evaluation_output) / \"deploy_flag\"), 'rb') as infile:\n",
        "        deploy_flag = int(infile.read())\n",
        "\n",
        "    mlflow.log_metric(\"deploy flag\", int(deploy_flag))\n",
        "    \n",
        "    if deploy_flag==1:\n",
        "\n",
        "        print(\"Registering \", args.model_name)\n",
        "\n",
        "        # load model\n",
        "        model =  mlflow.sklearn.load_model(args.model_path) \n",
        "\n",
        "        # log model using mlflow\n",
        "        mlflow.sklearn.log_model(model, args.model_name)\n",
        "\n",
        "        # register logged model using mlflow\n",
        "        run_id = mlflow.active_run().info.run_id\n",
        "        model_uri = f'runs:/{run_id}/{args.model_name}'\n",
        "        mlflow_model = mlflow.register_model(model_uri, args.model_name)\n",
        "        model_version = mlflow_model.version\n",
        "\n",
        "        # write model info\n",
        "        print(\"Writing JSON\")\n",
        "        dict = {\"id\": \"{0}:{1}\".format(args.model_name, model_version)}\n",
        "        output_path = os.path.join(args.model_info_output_path, \"model_info.json\")\n",
        "        with open(output_path, \"w\") as of:\n",
        "            json.dump(dict, fp=of)\n",
        "\n",
        "    else:\n",
        "        print(\"Model will not be registered!\")"
      ],
      "outputs": [],
      "execution_count": 2,
      "metadata": {
        "jupyter": {
          "source_hidden": false,
          "outputs_hidden": false
        },
        "nteract": {
          "transient": {
            "deleting": false
          }
        },
        "gather": {
          "logged": 1695132094723
        }
      }
    },
    {
      "cell_type": "code",
      "source": [
        "# Define Arguments for this step\n",
        "\n",
        "class MyArgs:\n",
        "    def __init__(self, /, **kwargs):\n",
        "        self.__dict__.update(kwargs)\n",
        "\n",
        "args = MyArgs(\n",
        "                model_name = \"crrisk-model-pipeline-4steps\",\n",
        "                model_path = \"local_run/train/train_exp3\",\n",
        "                evaluation_output = \"local_run/evaluate/evaluate_3\", \n",
        "                model_info_output_path = \"local_run/model_info_output_path\"\n",
        "                )\n",
        "\n",
        "os.makedirs(args.model_info_output_path, exist_ok = True)                "
      ],
      "outputs": [],
      "execution_count": 5,
      "metadata": {
        "jupyter": {
          "source_hidden": false,
          "outputs_hidden": false
        },
        "nteract": {
          "transient": {
            "deleting": false
          }
        },
        "gather": {
          "logged": 1695132173575
        }
      }
    },
    {
      "cell_type": "code",
      "source": [
        "mlflow.start_run(run_name = 'register_3')\n",
        "\n",
        "lines = [\n",
        "    f\"Model name: {args.model_name}\",\n",
        "    f\"Model path: {args.model_path}\",\n",
        "    f\"Evaluation output path: {args.evaluation_output}\",\n",
        "]\n",
        "\n",
        "for line in lines:\n",
        "    print(line)\n",
        "\n",
        "main(args)\n",
        "\n",
        "mlflow.end_run()"
      ],
      "outputs": [
        {
          "output_type": "stream",
          "name": "stdout",
          "text": "Model name: crrisk-model-pipeline-4steps\nModel path: local_run/train/train_exp3\nEvaluation output path: local_run/evaluate/evaluate_3\nRegistering  crrisk-model-pipeline-4steps\nWriting JSON\n"
        },
        {
          "output_type": "stream",
          "name": "stderr",
          "text": "Registered model 'crrisk-model-pipeline-4steps' already exists. Creating a new version of this model...\n2023/09/19 14:03:04 INFO mlflow.tracking._model_registry.client: Waiting up to 300 seconds for model version to finish creation. Model name: crrisk-model-pipeline-4steps, version 2\nCreated version '2' of model 'crrisk-model-pipeline-4steps'.\n"
        }
      ],
      "execution_count": 6,
      "metadata": {
        "jupyter": {
          "source_hidden": false,
          "outputs_hidden": false
        },
        "nteract": {
          "transient": {
            "deleting": false
          }
        },
        "gather": {
          "logged": 1695132185014
        }
      }
    }
  ],
  "metadata": {
    "kernelspec": {
      "name": "crrisk",
      "language": "python",
      "display_name": "CR Risk Env"
    },
    "language_info": {
      "name": "python",
      "version": "3.8.17",
      "mimetype": "text/x-python",
      "codemirror_mode": {
        "name": "ipython",
        "version": 3
      },
      "pygments_lexer": "ipython3",
      "nbconvert_exporter": "python",
      "file_extension": ".py"
    },
    "microsoft": {
      "ms_spell_check": {
        "ms_spell_check_language": "en"
      },
      "host": {
        "AzureML": {
          "notebookHasBeenCompleted": true
        }
      }
    },
    "nteract": {
      "version": "nteract-front-end@1.0.0"
    },
    "kernel_info": {
      "name": "crrisk"
    }
  },
  "nbformat": 4,
  "nbformat_minor": 2
}